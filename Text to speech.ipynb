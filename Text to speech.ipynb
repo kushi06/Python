{
 "cells": [
  {
   "cell_type": "code",
   "execution_count": null,
   "id": "eastern-suspension",
   "metadata": {},
   "outputs": [],
   "source": [
    "from tkinter import *\n",
    "from gtts import gTTS\n",
    "from playsound import playsound\n",
    "\n",
    "root=Tk()\n",
    "root.geometry(\"500x500\") \n",
    "root.configure(bg='ghost white')\n",
    "#heading\n",
    "root.title(\"TEXT-TO-SPEECH CONVERTER\")\n",
    "Label(root,text=\"TEXT-TO-SPEECH\",font='arial 20 bold',bg='white smoke').pack()\n",
    "Label(text=\"Textconverter\",font='arial 20 bold',bg='white smoke',width='20').pack(side='bottom')\n",
    "#label\n",
    "Msg=StringVar()\n",
    "Label(root,text=\"Enter Text\",font='arial 20 bold',bg='Light green').place(x=20,y=60)\n",
    "#textvariable\n",
    "entry_field=Entry(root,textvariable=Msg,width='50')\n",
    "entry_field.place(x=20,y=100)\n",
    "#function to convert text to speech\n",
    "def Text_to_speech():\n",
    "    Message=entry_field.get()\n",
    "    speech=gTTS(text=Message)\n",
    "    speech.save('converter.mp3')\n",
    "    playsound('converter.mp3')\n",
    "    \n",
    "def Exit():\n",
    "    root.destroy()\n",
    "    \n",
    "def Reset():\n",
    "    Msg.set(\" \")\n",
    "    \n",
    "Button(root, text = \"PLAY\", font = 'arial 15 bold' , command = Text_to_speech ,width = '4').place(x=25,y=140)\n",
    "Button(root, font = 'arial 15 bold',text = 'Exit', width = '4' , command = Exit, bg = 'Light blue').place(x=100 , y = 140)\n",
    "Button(root, font = 'arial 15 bold',text = 'Reset', width = '6' , command = Reset).place(x=175 , y = 140)\n",
    "root.mainloop()"
   ]
  },
  {
   "cell_type": "code",
   "execution_count": 1,
   "id": "addressed-mattress",
   "metadata": {},
   "outputs": [
    {
     "data": {
      "text/plain": [
       "'C:\\\\Users\\\\admin\\\\Desktop\\\\projects folder'"
      ]
     },
     "execution_count": 1,
     "metadata": {},
     "output_type": "execute_result"
    }
   ],
   "source": [
    "import os\n",
    "os.getcwd()"
   ]
  },
  {
   "cell_type": "code",
   "execution_count": 30,
   "id": "ideal-change",
   "metadata": {},
   "outputs": [
    {
     "ename": "AttributeError",
     "evalue": "type object 'datetime.time' has no attribute 'localtime'",
     "output_type": "error",
     "traceback": [
      "\u001b[1;31m---------------------------------------------------------------------------\u001b[0m",
      "\u001b[1;31mAttributeError\u001b[0m                            Traceback (most recent call last)",
      "\u001b[1;32m<ipython-input-30-5da4e08e66dc>\u001b[0m in \u001b[0;36m<module>\u001b[1;34m\u001b[0m\n\u001b[0;32m      1\u001b[0m \u001b[1;32mimport\u001b[0m \u001b[0mtime\u001b[0m\u001b[1;33m\u001b[0m\u001b[1;33m\u001b[0m\u001b[0m\n\u001b[0;32m      2\u001b[0m \u001b[1;32mimport\u001b[0m \u001b[0mdatetime\u001b[0m\u001b[1;33m\u001b[0m\u001b[1;33m\u001b[0m\u001b[0m\n\u001b[1;32m----> 3\u001b[1;33m \u001b[0mnow\u001b[0m \u001b[1;33m=\u001b[0m \u001b[0mdatetime\u001b[0m\u001b[1;33m.\u001b[0m\u001b[0mtime\u001b[0m\u001b[1;33m.\u001b[0m\u001b[0mlocaltime\u001b[0m\u001b[1;33m(\u001b[0m\u001b[1;33m)\u001b[0m\u001b[1;33m\u001b[0m\u001b[1;33m\u001b[0m\u001b[0m\n\u001b[0m\u001b[0;32m      4\u001b[0m \u001b[0mprint\u001b[0m\u001b[1;33m(\u001b[0m\u001b[0mnow\u001b[0m\u001b[1;33m)\u001b[0m\u001b[1;33m\u001b[0m\u001b[1;33m\u001b[0m\u001b[0m\n",
      "\u001b[1;31mAttributeError\u001b[0m: type object 'datetime.time' has no attribute 'localtime'"
     ]
    }
   ],
   "source": [
    "import time\n",
    "import datetime \n",
    "now = datetime.time.localtime()\n",
    "print(now)\n"
   ]
  },
  {
   "cell_type": "code",
   "execution_count": 21,
   "id": "quick-encoding",
   "metadata": {},
   "outputs": [
    {
     "name": "stdout",
     "output_type": "stream",
     "text": [
      "2021-08-04 20:52:30.387102\n"
     ]
    }
   ],
   "source": [
    "from datetime import date\n",
    "now = datetime.now()\n",
    "print(now)"
   ]
  },
  {
   "cell_type": "code",
   "execution_count": 28,
   "id": "miniature-wesley",
   "metadata": {},
   "outputs": [
    {
     "name": "stdout",
     "output_type": "stream",
     "text": [
      "2021-08-04 20:59:36.362662\n"
     ]
    }
   ],
   "source": [
    "from datetime import datetime\n",
    "dt = datetime.now() \n",
    "d = str(dt)\n",
    "print(d)"
   ]
  },
  {
   "cell_type": "code",
   "execution_count": 29,
   "id": "organized-surveillance",
   "metadata": {},
   "outputs": [
    {
     "name": "stdout",
     "output_type": "stream",
     "text": [
      "2021-08-11 20:59:40.310207\n"
     ]
    }
   ],
   "source": [
    "from datetime import datetime, timedelta\n",
    "N = 7\n",
    "dt = datetime.now() + timedelta(days=N)\n",
    "d = str(dt)\n",
    "print(d)"
   ]
  },
  {
   "cell_type": "code",
   "execution_count": 36,
   "id": "sealed-greeting",
   "metadata": {},
   "outputs": [
    {
     "name": "stdout",
     "output_type": "stream",
     "text": [
      "time.struct_time(tm_year=2021, tm_mon=8, tm_mday=4, tm_hour=21, tm_min=24, tm_sec=26, tm_wday=2, tm_yday=216, tm_isdst=0)\n"
     ]
    }
   ],
   "source": [
    "import time\n",
    "from datetime import date\n",
    "now = time.localtime()\n",
    "print(now)"
   ]
  },
  {
   "cell_type": "code",
   "execution_count": null,
   "id": "limiting-hours",
   "metadata": {},
   "outputs": [],
   "source": []
  }
 ],
 "metadata": {
  "kernelspec": {
   "display_name": "Python 3",
   "language": "python",
   "name": "python3"
  },
  "language_info": {
   "codemirror_mode": {
    "name": "ipython",
    "version": 3
   },
   "file_extension": ".py",
   "mimetype": "text/x-python",
   "name": "python",
   "nbconvert_exporter": "python",
   "pygments_lexer": "ipython3",
   "version": "3.7.4"
  }
 },
 "nbformat": 4,
 "nbformat_minor": 5
}
